{
 "cells": [
  {
   "cell_type": "code",
   "id": "initial_id",
   "metadata": {
    "collapsed": true,
    "ExecuteTime": {
     "end_time": "2025-05-20T18:11:16.732338Z",
     "start_time": "2025-05-20T18:11:16.726240Z"
    }
   },
   "source": [
    "with open(\"./source_html/woocommerce.html\") as f:\n",
    "    html = f.read()"
   ],
   "outputs": [],
   "execution_count": 15
  },
  {
   "metadata": {
    "ExecuteTime": {
     "end_time": "2025-05-20T18:11:19.549824Z",
     "start_time": "2025-05-20T18:11:16.964046Z"
    }
   },
   "cell_type": "code",
   "source": [
    "from markdownify import markdownify\n",
    "\n",
    "md = markdownify(html)"
   ],
   "id": "251c44a3c36982ba",
   "outputs": [],
   "execution_count": 16
  },
  {
   "metadata": {
    "ExecuteTime": {
     "end_time": "2025-05-20T17:40:46.959502Z",
     "start_time": "2025-05-20T17:40:46.957851Z"
    }
   },
   "cell_type": "code",
   "source": "md_part = md[:100000]",
   "id": "93009072b5b68450",
   "outputs": [],
   "execution_count": 13
  },
  {
   "metadata": {
    "ExecuteTime": {
     "end_time": "2025-05-20T16:59:35.883994Z",
     "start_time": "2025-05-20T16:59:35.882037Z"
    }
   },
   "cell_type": "code",
   "source": [
    "def enumerate_lines(text):\n",
    "    lines = text.splitlines()\n",
    "    output = [f\"{idx}. {line}\" for idx, line in enumerate(lines, start=1)]\n",
    "    return \"\\n\".join(output)"
   ],
   "id": "d9628caab0d1d8f1",
   "outputs": [],
   "execution_count": 5
  },
  {
   "metadata": {
    "ExecuteTime": {
     "end_time": "2025-05-20T17:00:01.755679Z",
     "start_time": "2025-05-20T17:00:01.748198Z"
    }
   },
   "cell_type": "code",
   "source": "res = enumerate_lines(md)",
   "id": "b47c0c31fd644a9b",
   "outputs": [],
   "execution_count": 7
  },
  {
   "metadata": {
    "ExecuteTime": {
     "end_time": "2025-05-20T17:39:25.752699Z",
     "start_time": "2025-05-20T17:39:21.821958Z"
    }
   },
   "cell_type": "code",
   "source": [
    "import tiktoken\n",
    "\n",
    "MODEL_NAME_SPLIT = \"gpt-4o\"\n",
    "\n",
    "_encoding = tiktoken.encoding_for_model(MODEL_NAME_SPLIT)\n",
    "\n",
    "def _count_tokens(text: str) -> int:\n",
    "    \"\"\"Return the number of tokens `text` would occupy for the chosen model.\"\"\"\n",
    "    return len(_encoding.encode(text))"
   ],
   "id": "88c401a3d7aaa2f0",
   "outputs": [],
   "execution_count": 9
  },
  {
   "metadata": {
    "ExecuteTime": {
     "end_time": "2025-05-20T17:40:48.768628Z",
     "start_time": "2025-05-20T17:40:48.757859Z"
    }
   },
   "cell_type": "code",
   "source": "_count_tokens(md_part)",
   "id": "8c423eed6afc2959",
   "outputs": [
    {
     "data": {
      "text/plain": [
       "20817"
      ]
     },
     "execution_count": 14,
     "metadata": {},
     "output_type": "execute_result"
    }
   ],
   "execution_count": 14
  },
  {
   "metadata": {},
   "cell_type": "code",
   "outputs": [],
   "execution_count": null,
   "source": "",
   "id": "b7119f5dd724da07"
  }
 ],
 "metadata": {
  "kernelspec": {
   "display_name": "Python 3",
   "language": "python",
   "name": "python3"
  },
  "language_info": {
   "codemirror_mode": {
    "name": "ipython",
    "version": 2
   },
   "file_extension": ".py",
   "mimetype": "text/x-python",
   "name": "python",
   "nbconvert_exporter": "python",
   "pygments_lexer": "ipython2",
   "version": "2.7.6"
  }
 },
 "nbformat": 4,
 "nbformat_minor": 5
}
