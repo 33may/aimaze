{
 "cells": [
  {
   "cell_type": "code",
   "id": "c054c62dd216480c",
   "metadata": {
    "ExecuteTime": {
     "end_time": "2025-04-30T13:21:11.222922Z",
     "start_time": "2025-04-30T13:21:11.150674Z"
    }
   },
   "source": "from src.scraper.scraper import _shrink_entry",
   "outputs": [],
   "execution_count": 1
  },
  {
   "metadata": {
    "ExecuteTime": {
     "end_time": "2025-04-30T13:21:11.239083Z",
     "start_time": "2025-04-30T13:21:11.232631Z"
    }
   },
   "cell_type": "code",
   "source": [
    "with open(\"./source_html/woocommerce.html\") as f:\n",
    "    html_content = f.read()"
   ],
   "id": "736d347ddac22251",
   "outputs": [],
   "execution_count": 2
  },
  {
   "metadata": {
    "collapsed": true,
    "ExecuteTime": {
     "end_time": "2025-04-30T13:21:14.728195Z",
     "start_time": "2025-04-30T13:21:12.305011Z"
    }
   },
   "cell_type": "code",
   "source": "md_content = _shrink_entry(html_content)",
   "id": "initial_id",
   "outputs": [],
   "execution_count": 3
  },
  {
   "metadata": {
    "ExecuteTime": {
     "end_time": "2025-04-30T13:21:33.385017Z",
     "start_time": "2025-04-30T13:21:33.383462Z"
    }
   },
   "cell_type": "code",
   "source": "test = md_content[:2000]",
   "id": "fd688438d91beb09",
   "outputs": [],
   "execution_count": 4
  },
  {
   "metadata": {
    "ExecuteTime": {
     "end_time": "2025-04-30T13:21:36.861453Z",
     "start_time": "2025-04-30T13:21:33.880203Z"
    }
   },
   "cell_type": "code",
   "source": [
    "from semantic_router.encoders import HuggingFaceEncoder\n",
    "\n",
    "encoder = HuggingFaceEncoder()"
   ],
   "id": "c28d61a13cbfe7a8",
   "outputs": [
    {
     "name": "stderr",
     "output_type": "stream",
     "text": [
      "/home/may33/miniconda3/envs/aimaze/lib/python3.12/site-packages/tqdm/auto.py:21: TqdmWarning: IProgress not found. Please update jupyter and ipywidgets. See https://ipywidgets.readthedocs.io/en/stable/user_install.html\n",
      "  from .autonotebook import tqdm as notebook_tqdm\n"
     ]
    }
   ],
   "execution_count": 5
  },
  {
   "metadata": {
    "ExecuteTime": {
     "end_time": "2025-04-30T13:30:01.344358Z",
     "start_time": "2025-04-30T13:30:01.342622Z"
    }
   },
   "cell_type": "code",
   "source": [
    "from semantic_chunkers import StatisticalChunker\n",
    "\n",
    "chunker = StatisticalChunker(encoder=encoder, max_split_tokens=50000, window_size=100)"
   ],
   "id": "bc0f20cad146901d",
   "outputs": [],
   "execution_count": 31
  },
  {
   "metadata": {
    "ExecuteTime": {
     "end_time": "2025-04-30T13:30:09.987181Z",
     "start_time": "2025-04-30T13:30:01.721997Z"
    }
   },
   "cell_type": "code",
   "source": "chunks = chunker([md_content])",
   "id": "252e466694ed6f89",
   "outputs": [
    {
     "name": "stderr",
     "output_type": "stream",
     "text": [
      "\u001B[32m2025-04-30 15:30:01 INFO semantic_chunkers.utils.logger Single document exceeds the maximum token limit of 50000. Splitting to sentences before semantically merging.\u001B[0m\n",
      "100%|██████████| 742/742 [00:07<00:00, 93.04it/s] \n"
     ]
    }
   ],
   "execution_count": 32
  },
  {
   "metadata": {
    "ExecuteTime": {
     "end_time": "2025-04-30T13:29:02.022259Z",
     "start_time": "2025-04-30T13:29:02.020338Z"
    }
   },
   "cell_type": "code",
   "source": "chunks[0][120].content",
   "id": "391494b7c6b524fc",
   "outputs": [
    {
     "data": {
      "text/plain": [
       "'\"Line total tax (after discounts).\", \"type\": \"string\", \"context\": [ \"view\", \"edit\" ], \"readonly\": true }, \"taxes\": { \"description\": \"Line taxes.\", \"type\": \"array\", \"context\": [ \"view\", \"edit\" ], \"readonly\": true, \"items\": { \"type\": \"object\", \"properties\": { \"id\": { \"description\": \"Tax rate ID.\", \"type\": \"integer\", \"context\": [ \"view\", \"edit\" ] }, \"total\": { \"description\": \"Tax total.\", \"type\": \"string\", \"context\": [ \"view\", \"edit\"'"
      ]
     },
     "execution_count": 30,
     "metadata": {},
     "output_type": "execute_result"
    }
   ],
   "execution_count": 30
  },
  {
   "metadata": {},
   "cell_type": "code",
   "outputs": [],
   "execution_count": null,
   "source": "",
   "id": "5ea0453a90e623b3"
  }
 ],
 "metadata": {
  "kernelspec": {
   "display_name": "Python 3",
   "language": "python",
   "name": "python3"
  },
  "language_info": {
   "codemirror_mode": {
    "name": "ipython",
    "version": 2
   },
   "file_extension": ".py",
   "mimetype": "text/x-python",
   "name": "python",
   "nbconvert_exporter": "python",
   "pygments_lexer": "ipython2",
   "version": "2.7.6"
  }
 },
 "nbformat": 4,
 "nbformat_minor": 5
}
